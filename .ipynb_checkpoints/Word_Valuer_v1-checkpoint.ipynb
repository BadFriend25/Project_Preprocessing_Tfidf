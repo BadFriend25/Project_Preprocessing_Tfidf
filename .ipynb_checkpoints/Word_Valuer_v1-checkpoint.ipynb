{
 "cells": [
  {
   "cell_type": "code",
   "execution_count": 1,
   "id": "b641cc5e-5b3b-4314-8447-af68e7eb41c6",
   "metadata": {},
   "outputs": [
    {
     "ename": "SyntaxError",
     "evalue": "(unicode error) 'unicodeescape' codec can't decode bytes in position 2-3: truncated \\UXXXXXXXX escape (662251180.py, line 9)",
     "output_type": "error",
     "traceback": [
      "\u001b[1;36m  Cell \u001b[1;32mIn[1], line 9\u001b[1;36m\u001b[0m\n\u001b[1;33m    pdf_file = open('C:\\Users\\User\\Downloads\\Kementerian Kominfo_ Situs Elaelo Pengganti X_Twitter Bukan Buatan Pemerintah.pdf', 'rb')\u001b[0m\n\u001b[1;37m                                                                                                                               ^\u001b[0m\n\u001b[1;31mSyntaxError\u001b[0m\u001b[1;31m:\u001b[0m (unicode error) 'unicodeescape' codec can't decode bytes in position 2-3: truncated \\UXXXXXXXX escape\n"
     ]
    }
   ],
   "source": [
    "import PyPDF2\n",
    "import nltk\n",
    "from nltk.corpus import stopwords\n",
    "from nltk.stem import WordNetLemmatizer\n",
    "from sklearn.feature_extraction.text import TfidfVectorizer\n",
    "import pandas as pd\n",
    "\n",
    "# Download the PDF file and read it\n",
    "pdf_file = open('D:\\Kementerian Kominfo_ Situs Elaelo Pengganti X_Twitter Bukan Buatan Pemerintah.pdf', 'rb')\n",
    "pdf_reader = PyPDF2.PdfFileReader(pdf_file)\n",
    "num_pages = pdf_reader.numPages\n",
    "\n",
    "# Extract text from all pages\n",
    "text = ''\n",
    "for page in range(num_pages):\n",
    "    page_obj = pdf_reader.getPage(page)\n",
    "    text += page_obj.extractText()\n",
    "\n",
    "# Preprocess the text\n",
    "nltk.download('stopwords')\n",
    "nltk.download('wordnet')\n",
    "stop_words = set(stopwords.words('english'))\n",
    "lemmatizer = WordNetLemmatizer()\n",
    "\n",
    "words = text.split()\n",
    "words = [lemmatizer.lemmatize(word.lower()) for word in words if word.lower() not in stop_words]\n",
    "data_without_stopwords = [' '.join(words)]\n",
    "\n",
    "# Vectorize the responses using TF-IDF\n",
    "vectorizer = TfidfVectorizer()\n",
    "vectors = vectorizer.fit_transform(data_without_stopwords)\n",
    "\n",
    "# Print the TF-IDF matrix shape\n",
    "print(\"n_samples: %d, n_features: %d\" % vectors.shape)\n",
    "\n",
    "# Select the first five documents from the data set\n",
    "tf_idf = pd.DataFrame(vectors.todense()).iloc[:5]\n",
    "tf_idf.columns = vectorizer.get_feature_names()\n",
    "tfidf_matrix = tf_idf.T\n",
    "tfidf_matrix.columns = ['response'+ str(i) for i in range(1, 6)]\n",
    "tfidf_matrix['count'] = tfidf_matrix.sum(axis=1)\n",
    "\n",
    "# Top 10 words\n",
    "tfidf_matrix = tfidf_matrix.sort_values(by ='count', ascending=False)[:10]\n",
    "print(tfidf_matrix.drop(columns=['count']).head(10))"
   ]
  },
  {
   "cell_type": "code",
   "execution_count": null,
   "id": "ccf7ce0b-4735-40a8-80c1-b03991034d76",
   "metadata": {},
   "outputs": [],
   "source": []
  }
 ],
 "metadata": {
  "kernelspec": {
   "display_name": "Python 3 (ipykernel)",
   "language": "python",
   "name": "python3"
  },
  "language_info": {
   "codemirror_mode": {
    "name": "ipython",
    "version": 3
   },
   "file_extension": ".py",
   "mimetype": "text/x-python",
   "name": "python",
   "nbconvert_exporter": "python",
   "pygments_lexer": "ipython3",
   "version": "3.11.7"
  }
 },
 "nbformat": 4,
 "nbformat_minor": 5
}
