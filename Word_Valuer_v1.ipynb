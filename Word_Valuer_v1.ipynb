{
 "cells": [
  {
   "cell_type": "code",
   "execution_count": 9,
   "id": "b641cc5e-5b3b-4314-8447-af68e7eb41c6",
   "metadata": {},
   "outputs": [
    {
     "ename": "ModuleNotFoundError",
     "evalue": "No module named 'indonesian_stopwords'",
     "output_type": "error",
     "traceback": [
      "\u001b[1;31m---------------------------------------------------------------------------\u001b[0m",
      "\u001b[1;31mModuleNotFoundError\u001b[0m                       Traceback (most recent call last)",
      "Cell \u001b[1;32mIn[9], line 6\u001b[0m\n\u001b[0;32m      4\u001b[0m \u001b[38;5;28;01mfrom\u001b[39;00m \u001b[38;5;21;01msklearn\u001b[39;00m\u001b[38;5;21;01m.\u001b[39;00m\u001b[38;5;21;01mfeature_extraction\u001b[39;00m\u001b[38;5;21;01m.\u001b[39;00m\u001b[38;5;21;01mtext\u001b[39;00m \u001b[38;5;28;01mimport\u001b[39;00m TfidfVectorizer\n\u001b[0;32m      5\u001b[0m \u001b[38;5;28;01mimport\u001b[39;00m \u001b[38;5;21;01mpandas\u001b[39;00m \u001b[38;5;28;01mas\u001b[39;00m \u001b[38;5;21;01mpd\u001b[39;00m\n\u001b[1;32m----> 6\u001b[0m \u001b[38;5;28;01mimport\u001b[39;00m \u001b[38;5;21;01mindonesian_stopwords\u001b[39;00m\n\u001b[0;32m      8\u001b[0m \u001b[38;5;66;03m# Download the PDF file and read it\u001b[39;00m\n\u001b[0;32m      9\u001b[0m pdf_file \u001b[38;5;241m=\u001b[39m \u001b[38;5;28mopen\u001b[39m(\u001b[38;5;124m'\u001b[39m\u001b[38;5;124mD:\u001b[39m\u001b[38;5;124m\\\u001b[39m\u001b[38;5;124mKementerian Kominfo_ Situs Elaelo Pengganti X_Twitter Bukan Buatan Pemerintah.pdf\u001b[39m\u001b[38;5;124m'\u001b[39m, \u001b[38;5;124m'\u001b[39m\u001b[38;5;124mrb\u001b[39m\u001b[38;5;124m'\u001b[39m)\n",
      "\u001b[1;31mModuleNotFoundError\u001b[0m: No module named 'indonesian_stopwords'"
     ]
    }
   ],
   "source": [
    "import PyPDF2\n",
    "import nltk\n",
    "from nltk.stem import WordNetLemmatizer\n",
    "from sklearn.feature_extraction.text import TfidfVectorizer\n",
    "import pandas as pd\n",
    "import indonesian_stopwords\n",
    "\n",
    "# Download the PDF file and read it\n",
    "pdf_file = open('D:\\Kementerian Kominfo_ Situs Elaelo Pengganti X_Twitter Bukan Buatan Pemerintah.pdf', 'rb')\n",
    "pdf_reader = PyPDF2.PdfReader(pdf_file)\n",
    "num_pages = len(pdf_reader.pages)\n",
    "\n",
    "# Extract text from all pages\n",
    "text = ''\n",
    "for page in range(num_pages):\n",
    "    page_obj = pdf_reader.pages[page]\n",
    "    text += page_obj.extract_text()\n",
    "\n",
    "# Preprocess the text\n",
    "nltk.download('wordnet')\n",
    "stop_words = set(indonesian_stopwords.words('indonesian'))\n",
    "lemmatizer = WordNetLemmatizer()\n",
    "lemmatizer.download('indonesian')\n",
    "\n",
    "words = text.split()\n",
    "words = [lemmatizer.lemmatize(word.lower()) for word in words if word.lower() not in stop_words]\n",
    "data_without_stopwords = [' '.join(words)]\n",
    "\n",
    "# Vectorize the responses using TF-IDF\n",
    "vectorizer = TfidfVectorizer()\n",
    "vectors = vectorizer.fit_transform(data_without_stopwords)\n",
    "\n",
    "# Print the TF-IDF matrix shape\n",
    "print(\"n_samples: %d, n_features: %d\" % vectors.shape)\n",
    "\n",
    "# Select the first five documents from the data set\n",
    "tf_idf = pd.DataFrame(vectors.todense()).iloc[:5]\n",
    "tf_idf.columns = vectorizer.get_feature_names_out()\n",
    "tfidf_matrix = tf_idf.T\n",
    "tfidf_matrix.columns = ['response'+ str(i) for i in range(1, 6)]\n",
    "tfidf_matrix['count'] = tfidf_matrix.sum(axis=1)\n",
    "\n",
    "# Top 10 words\n",
    "tfidf_matrix = tfidf_matrix.sort_values(by ='count', ascending=False)[:10]\n",
    "print(tfidf_matrix.drop(columns=['count']).head(10))"
   ]
  },
  {
   "cell_type": "code",
   "execution_count": 13,
   "id": "6a57c978-6c86-4de0-baeb-eb72dd9f5f42",
   "metadata": {},
   "outputs": [
    {
     "name": "stderr",
     "output_type": "stream",
     "text": [
      "[nltk_data] Error loading indonesian: Package 'indonesian' not found\n",
      "[nltk_data]     in index\n"
     ]
    },
    {
     "data": {
      "text/plain": [
       "False"
      ]
     },
     "execution_count": 13,
     "metadata": {},
     "output_type": "execute_result"
    }
   ],
   "source": [
    "import nltk\n",
    "nltk.download('indonesian', force=True)"
   ]
  },
  {
   "cell_type": "code",
   "execution_count": 15,
   "id": "b4e05910-a7ed-449b-b0fe-2e5f1bdca5a4",
   "metadata": {},
   "outputs": [],
   "source": [
    "from nltk.corpus import stopwords\n",
    "stop_words = set(stopwords.words('indonesian'))\n"
   ]
  }
 ],
 "metadata": {
  "kernelspec": {
   "display_name": "Python 3 (ipykernel)",
   "language": "python",
   "name": "python3"
  },
  "language_info": {
   "codemirror_mode": {
    "name": "ipython",
    "version": 3
   },
   "file_extension": ".py",
   "mimetype": "text/x-python",
   "name": "python",
   "nbconvert_exporter": "python",
   "pygments_lexer": "ipython3",
   "version": "3.11.7"
  }
 },
 "nbformat": 4,
 "nbformat_minor": 5
}
